{
 "cells": [
  {
   "cell_type": "code",
   "execution_count": 1,
   "id": "stone-exception",
   "metadata": {},
   "outputs": [],
   "source": [
    "import numpy as np\n",
    "import gym\n",
    "from gym import wrappers\n",
    "import time\n",
    "import sys\n",
    "import matplotlib.pyplot as plt"
   ]
  },
  {
   "cell_type": "code",
   "execution_count": null,
   "id": "bright-vehicle",
   "metadata": {},
   "outputs": [],
   "source": [
    "import hiive.mdptoolbox, hiive.mdptoolbox.example\n",
    "\n",
    "P, R = hiive.mdptoolbox.example.forest(S=10, r1=10, r2=2)\n",
    "mean_value = []\n",
    "policy = []\n",
    "iters = []\n",
    "time_array = []\n",
    "gamma_array = []\n",
    "for i in range(0,10):\n",
    "    pi = hiive.mdptoolbox.mdp.PolicyIteration(P, R, (i+0.5)/10)\n",
    "    pi.run()\n",
    "    gamma_array.append((i+0.5)/10)\n",
    "    mean_value.append(np.mean(pi.V))\n",
    "    policy.append(pi.policy)\n",
    "    iters.append(pi.iter)\n",
    "    time_array.append(pi.time)\n",
    "\n",
    "print(policy)\n",
    "plt.plot(gamma_array, time_array)\n",
    "plt.xlabel('Gamma')\n",
    "plt.title('Policy Iteration, Execution Time Analysis')\n",
    "plt.ylabel('Execution Time (s)')\n",
    "plt.grid()\n",
    "plt.savefig(\"PI_ExecutionTime_R1.png\")\n",
    "plt.show()\n",
    "\n",
    "plt.plot(gamma_array,mean_value)\n",
    "plt.xlabel('Gamma')\n",
    "plt.ylabel('Average Rewards')\n",
    "plt.title('Policy Iteration, Reward Analysis')\n",
    "plt.grid()\n",
    "plt.savefig(\"PI_AverageRewards_R1.png\")\n",
    "plt.show()\n",
    "\n",
    "plt.plot(gamma_array,iters)\n",
    "plt.xlabel('Gamma')\n",
    "plt.ylabel('Iterations')\n",
    "plt.title('Policy Iteration, Convergence Analysis')\n",
    "plt.grid()\n",
    "plt.savefig(\"PI_Iterations_R1.png\")\n",
    "plt.show()"
   ]
  },
  {
   "cell_type": "code",
   "execution_count": null,
   "id": "injured-vertex",
   "metadata": {},
   "outputs": [],
   "source": [
    "P, R = hiive.mdptoolbox.example.forest(S=10, r1=4, r2=30)\n",
    "mean_value = []\n",
    "policy = []\n",
    "iters = []\n",
    "time_array = []\n",
    "gamma_array = []\n",
    "for i in range(0,10):\n",
    "    pi = hiive.mdptoolbox.mdp.PolicyIteration(P, R, (i+0.5)/10)\n",
    "    pi.run()\n",
    "    gamma_array.append((i+0.5)/10)\n",
    "    mean_value.append(np.mean(pi.V))\n",
    "    policy.append(pi.policy)\n",
    "    iters.append(pi.iter)\n",
    "    time_array.append(pi.time)\n",
    "\n",
    "print(policy)\n",
    "plt.plot(gamma_array, time_array)\n",
    "plt.xlabel('Gamma')\n",
    "plt.title('Policy Iteration, Execution Time Analysis')\n",
    "plt.ylabel('Execution Time (s)')\n",
    "plt.grid()\n",
    "plt.savefig(\"PI_ExecutionTime_R2.png\")\n",
    "plt.show()\n",
    "\n",
    "plt.plot(gamma_array,mean_value)\n",
    "plt.xlabel('Gamma')\n",
    "plt.ylabel('Average Rewards')\n",
    "plt.title('Policy Iteration, Reward Analysis')\n",
    "plt.grid()\n",
    "plt.savefig(\"PI_AverageRewards_R2.png\")\n",
    "plt.show()\n",
    "\n",
    "plt.plot(gamma_array,iters)\n",
    "plt.xlabel('Gamma')\n",
    "plt.ylabel('Iterations')\n",
    "plt.title('Policy Iteration, Convergence Analysis')\n",
    "plt.grid()\n",
    "plt.savefig(\"PI_Iterations_R2.png\")\n",
    "plt.show()"
   ]
  },
  {
   "cell_type": "code",
   "execution_count": null,
   "id": "sexual-panel",
   "metadata": {},
   "outputs": [],
   "source": [
    "P, R = hiive.mdptoolbox.example.forest(S=10, r1=10, r2=2)\n",
    "mean_value = []\n",
    "policy = []\n",
    "iters = []\n",
    "time_array = []\n",
    "gamma_array = []\n",
    "for i in range(0,10):\n",
    "    pi = hiive.mdptoolbox.mdp.ValueIteration(P, R, (i+0.5)/10)\n",
    "    pi.run()\n",
    "    gamma_array.append((i+0.5)/10)\n",
    "    mean_value.append(np.mean(pi.V))\n",
    "    policy.append(pi.policy)\n",
    "    iters.append(pi.iter)\n",
    "    time_array.append(pi.time)\n",
    "\n",
    "print(policy)\n",
    "plt.plot(gamma_array, time_array)\n",
    "plt.xlabel('Gamma')\n",
    "plt.title('Value Iteration, Execution Time Analysis')\n",
    "plt.ylabel('Execution Time (s)')\n",
    "plt.grid()\n",
    "plt.savefig(\"VI_ExecutionTime_R1.png\")\n",
    "plt.show()\n",
    "\n",
    "plt.plot(gamma_array,mean_value)\n",
    "plt.xlabel('Gamma')\n",
    "plt.ylabel('Average Rewards')\n",
    "plt.title('Value Iteration, Reward Analysis')\n",
    "plt.grid()\n",
    "plt.savefig(\"VI_AverageRewards_R1.png\")\n",
    "plt.show()\n",
    "\n",
    "plt.plot(gamma_array,iters)\n",
    "plt.xlabel('Gamma')\n",
    "plt.ylabel('Iterations')\n",
    "plt.title('Value Iteration, Convergence Analysis')\n",
    "plt.grid()\n",
    "plt.savefig(\"VI_Iterations_R1.png\")\n",
    "plt.show()"
   ]
  },
  {
   "cell_type": "code",
   "execution_count": null,
   "id": "pharmaceutical-cardiff",
   "metadata": {},
   "outputs": [],
   "source": [
    "P, R = hiive.mdptoolbox.example.forest(S=10, r1=4, r2=30)\n",
    "mean_value = []\n",
    "policy = []\n",
    "iters = []\n",
    "time_array = []\n",
    "gamma_array = []\n",
    "for i in range(0,10):\n",
    "    pi = hiive.mdptoolbox.mdp.ValueIteration(P, R, (i+0.5)/10)\n",
    "    pi.run()\n",
    "    gamma_array.append((i+0.5)/10)\n",
    "    mean_value.append(np.mean(pi.V))\n",
    "    policy.append(pi.policy)\n",
    "    iters.append(pi.iter)\n",
    "    time_array.append(pi.time)\n",
    "\n",
    "print(policy)\n",
    "plt.plot(gamma_array, time_array)\n",
    "plt.xlabel('Gamma')\n",
    "plt.title('Value Iteration, Execution Time Analysis')\n",
    "plt.ylabel('Execution Time (s)')\n",
    "plt.grid()\n",
    "plt.savefig(\"VI_ExecutionTime_R2.png\")\n",
    "plt.show()\n",
    "\n",
    "plt.plot(gamma_array,mean_value)\n",
    "plt.xlabel('Gamma')\n",
    "plt.ylabel('Average Rewards')\n",
    "plt.title('Value Iteration, Reward Analysis')\n",
    "plt.grid()\n",
    "plt.savefig(\"VI_AverageRewards_R2.png\")\n",
    "plt.show()\n",
    "\n",
    "plt.plot(gamma_array,iters)\n",
    "plt.xlabel('Gamma')\n",
    "plt.ylabel('Iterations')\n",
    "plt.title('Value Iteration, Convergence Analysis')\n",
    "plt.grid()\n",
    "plt.savefig(\"VI_Iterations_R2.png\")\n",
    "plt.show()"
   ]
  },
  {
   "cell_type": "code",
   "execution_count": null,
   "id": "parliamentary-raleigh",
   "metadata": {
    "scrolled": false
   },
   "outputs": [],
   "source": [
    "P, R = hiive.mdptoolbox.example.forest(S=10, r1=10, r2=2)\n",
    "mean_value = []\n",
    "policy = []\n",
    "iters = []\n",
    "time_array = []\n",
    "Q_table = []\n",
    "epsilon_array = [0.05,0.15,0.25,0.5,0.75,0.95]\n",
    "for epsilon in epsilon_array:\n",
    "    st = time.time()\n",
    "    pi = hiive.mdptoolbox.mdp.QLearning(P,R,0.95,epsilon=epsilon,epsilon_decay=0.999,n_iter=1000000)\n",
    "    run_stats = pi.run()\n",
    "    end = time.time()\n",
    "    mean_value.append(np.mean(pi.V))\n",
    "    policy.append(pi.policy)\n",
    "    time_array.append(end-st)\n",
    "    Q_table.append(pi.Q) \n",
    "\n",
    "print(policy)\n",
    "plt.plot(epsilon_array,mean_value)\n",
    "plt.xlabel('Epsilon')\n",
    "plt.ylabel('Average Rewards')\n",
    "plt.title('Q-Learning, Reward Analysis')\n",
    "plt.grid()\n",
    "plt.savefig(\"Q_Eps_AverageRewards_R1.png\")\n",
    "plt.show()\n",
    "\n",
    "plt.plot(epsilon_array, time_array)\n",
    "plt.xlabel('Epsilon')\n",
    "plt.title('Q-Learning, Execution Time Analysis')\n",
    "plt.ylabel('Execution Time (s)')\n",
    "plt.grid()\n",
    "plt.savefig(\"Q_Eps_ExecutionTime_R1.png\")\n",
    "plt.show()\n",
    "\n",
    "P, R = hiive.mdptoolbox.example.forest(S=10, r1=10, r2=2)\n",
    "mean_value = []\n",
    "policy = []\n",
    "iters = []\n",
    "time_array = []\n",
    "gamma_array = []\n",
    "for i in range(0,10):\n",
    "    st = time.time()\n",
    "    pi = hiive.mdptoolbox.mdp.QLearning(P,R,(i+0.5)/10,epsilon=0.05,epsilon_decay=0.999,n_iter=1000000)\n",
    "    run_stats = pi.run()\n",
    "    end = time.time()\n",
    "    gamma_array.append((i+0.5)/10)\n",
    "    mean_value.append(np.mean(pi.V))\n",
    "    policy.append(pi.policy)\n",
    "    time_array.append(end-st)\n",
    "    Q_table.append(pi.Q)\n",
    "    \n",
    "print(policy)\n",
    "plt.plot(gamma_array,mean_value)\n",
    "plt.xlabel('Gamma')\n",
    "plt.ylabel('Average Rewards')\n",
    "plt.title('Q-Learning, Reward Analysis')\n",
    "plt.grid()\n",
    "plt.savefig(\"Q_AverageRewards_R1.png\")\n",
    "plt.show()\n",
    "\n",
    "plt.plot(gamma_array, time_array)\n",
    "plt.xlabel('Gamma')\n",
    "plt.title('Q-Learning, Execution Time Analysis')\n",
    "plt.ylabel('Execution Time (s)')\n",
    "plt.grid()\n",
    "plt.savefig(\"Q_ExecutionTime_R1.png\")\n",
    "plt.show()"
   ]
  },
  {
   "cell_type": "code",
   "execution_count": null,
   "id": "identical-lyric",
   "metadata": {
    "scrolled": true
   },
   "outputs": [],
   "source": [
    "P, R = hiive.mdptoolbox.example.forest(S=10, r1=4, r2=30)\n",
    "mean_value = []\n",
    "policy = []\n",
    "iters = []\n",
    "time_array = []\n",
    "Q_table = []\n",
    "epsilon_array = [0.05,0.15,0.25,0.5,0.75,0.95]\n",
    "for epsilon in epsilon_array:\n",
    "    st = time.time()\n",
    "    pi = hiive.mdptoolbox.mdp.QLearning(P,R,0.95,epsilon=epsilon,epsilon_decay=0.999,n_iter=1000000)\n",
    "    run_stats = pi.run()\n",
    "    end = time.time()\n",
    "    mean_value.append(np.mean(pi.V))\n",
    "    policy.append(pi.policy)\n",
    "    time_array.append(end-st)\n",
    "    Q_table.append(pi.Q) \n",
    "\n",
    "print(policy)\n",
    "plt.plot(epsilon_array,mean_value)\n",
    "plt.xlabel('Epsilon')\n",
    "plt.ylabel('Average Rewards')\n",
    "plt.title('Q-Learning, Reward Analysis')\n",
    "plt.grid()\n",
    "plt.savefig(\"Q_Eps_AverageRewards_R2.png\")\n",
    "plt.show()\n",
    "\n",
    "plt.plot(epsilon_array, time_array)\n",
    "plt.xlabel('Epsilon')\n",
    "plt.title('Q-Learning, Execution Time Analysis')\n",
    "plt.ylabel('Execution Time (s)')\n",
    "plt.grid()\n",
    "plt.savefig(\"Q_Eps_ExecutionTime_R2.png\")\n",
    "plt.show()\n",
    "\n",
    "P, R = hiive.mdptoolbox.example.forest(S=10, r1=4, r2=30)\n",
    "mean_value = []\n",
    "policy = []\n",
    "iters = []\n",
    "time_array = []\n",
    "gamma_array = []\n",
    "for i in range(0,10):\n",
    "    st = time.time()\n",
    "    pi = hiive.mdptoolbox.mdp.QLearning(P,R,(i+0.5)/10,epsilon=0.05,epsilon_decay=0.999,n_iter=1000000)\n",
    "    run_stats = pi.run()\n",
    "    end = time.time()\n",
    "    gamma_array.append((i+0.5)/10)\n",
    "    mean_value.append(np.mean(pi.V))\n",
    "    policy.append(pi.policy)\n",
    "    time_array.append(end-st)\n",
    "    Q_table.append(pi.Q)\n",
    "    \n",
    "print(policy)\n",
    "plt.plot(gamma_array,mean_value)\n",
    "plt.xlabel('Gamma')\n",
    "plt.ylabel('Average Rewards')\n",
    "plt.title('Q-Learning, Reward Analysis')\n",
    "plt.grid()\n",
    "plt.savefig(\"Q_AverageRewards_R2.png\")\n",
    "plt.show()\n",
    "\n",
    "plt.plot(gamma_array, time_array)\n",
    "plt.xlabel('Gamma')\n",
    "plt.title('Q-Learning, Execution Time Analysis')\n",
    "plt.ylabel('Execution Time (s)')\n",
    "plt.grid()\n",
    "plt.savefig(\"Q_ExecutionTime_R2.png\")\n",
    "plt.show()"
   ]
  },
  {
   "cell_type": "code",
   "execution_count": null,
   "id": "unauthorized-factor",
   "metadata": {},
   "outputs": [],
   "source": [
    "P, R = hiive.mdptoolbox.example.forest(S=4, r1=10, r2=2)\n",
    "mean_value = []\n",
    "policy = []\n",
    "iters = []\n",
    "time_array = []\n",
    "Q_table = []\n",
    "epsilon_array = [0.05,0.15,0.25,0.5,0.75,0.95]\n",
    "for epsilon in epsilon_array:\n",
    "    st = time.time()\n",
    "    pi = hiive.mdptoolbox.mdp.QLearning(P,R,0.95,epsilon=epsilon,epsilon_decay=0.999,n_iter=1000000)\n",
    "    run_stats = pi.run()\n",
    "    end = time.time()\n",
    "    mean_value.append(np.mean(pi.V))\n",
    "    policy.append(pi.policy)\n",
    "    time_array.append(end-st)\n",
    "    Q_table.append(pi.Q) \n",
    "\n",
    "print(policy)\n",
    "plt.plot(epsilon_array,mean_value)\n",
    "plt.xlabel('Epsilon')\n",
    "plt.ylabel('Average Rewards')\n",
    "plt.title('Q-Learning, Reward Analysis')\n",
    "plt.grid()\n",
    "plt.savefig(\"Q_Eps_AverageRewards_R1_small.png\")\n",
    "plt.show()\n",
    "\n",
    "plt.plot(epsilon_array, time_array)\n",
    "plt.xlabel('Epsilon')\n",
    "plt.title('Q-Learning, Execution Time Analysis')\n",
    "plt.ylabel('Execution Time (s)')\n",
    "plt.grid()\n",
    "plt.savefig(\"Q_Eps_ExecutionTime_R1_small.png\")\n",
    "plt.show()\n",
    "\n",
    "P, R = hiive.mdptoolbox.example.forest(S=4, r1=10, r2=2)\n",
    "mean_value = []\n",
    "policy = []\n",
    "iters = []\n",
    "time_array = []\n",
    "gamma_array = []\n",
    "for i in range(0,10):\n",
    "    st = time.time()\n",
    "    pi = hiive.mdptoolbox.mdp.QLearning(P,R,(i+0.5)/10,epsilon=0.05,epsilon_decay=0.999,n_iter=1000000)\n",
    "    run_stats = pi.run()\n",
    "    end = time.time()\n",
    "    gamma_array.append((i+0.5)/10)\n",
    "    mean_value.append(np.mean(pi.V))\n",
    "    policy.append(pi.policy)\n",
    "    time_array.append(end-st)\n",
    "    Q_table.append(pi.Q)\n",
    "    \n",
    "print(policy)\n",
    "plt.plot(gamma_array,mean_value)\n",
    "plt.xlabel('Gamma')\n",
    "plt.ylabel('Average Rewards')\n",
    "plt.title('Q-Learning, Reward Analysis')\n",
    "plt.grid()\n",
    "plt.savefig(\"Q_AverageRewards_R1_small.png\")\n",
    "plt.show()\n",
    "\n",
    "plt.plot(gamma_array, time_array)\n",
    "plt.xlabel('Gamma')\n",
    "plt.title('Q-Learning, Execution Time Analysis')\n",
    "plt.ylabel('Execution Time (s)')\n",
    "plt.grid()\n",
    "plt.savefig(\"Q_ExecutionTime_R1_small.png\")\n",
    "plt.show()"
   ]
  },
  {
   "cell_type": "code",
   "execution_count": null,
   "id": "rubber-highland",
   "metadata": {},
   "outputs": [],
   "source": [
    "P, R = hiive.mdptoolbox.example.forest(S=4, r1=4, r2=30)\n",
    "mean_value = []\n",
    "policy = []\n",
    "iters = []\n",
    "time_array = []\n",
    "Q_table = []\n",
    "epsilon_array = [0.05,0.15,0.25,0.5,0.75,0.95]\n",
    "for epsilon in epsilon_array:\n",
    "    st = time.time()\n",
    "    pi = hiive.mdptoolbox.mdp.QLearning(P,R,0.95,epsilon=epsilon,epsilon_decay=0.999,n_iter=1000000)\n",
    "    run_stats = pi.run()\n",
    "    end = time.time()\n",
    "    mean_value.append(np.mean(pi.V))\n",
    "    policy.append(pi.policy)\n",
    "    time_array.append(end-st)\n",
    "    Q_table.append(pi.Q) \n",
    "\n",
    "print(policy)\n",
    "plt.plot(epsilon_array,mean_value)\n",
    "plt.xlabel('Epsilon')\n",
    "plt.ylabel('Average Rewards')\n",
    "plt.title('Q-Learning, Reward Analysis')\n",
    "plt.grid()\n",
    "plt.savefig(\"Q_Eps_AverageRewards_R2_small.png\")\n",
    "plt.show()\n",
    "\n",
    "plt.plot(epsilon_array, time_array)\n",
    "plt.xlabel('Epsilon')\n",
    "plt.title('Q-Learning, Execution Time Analysis')\n",
    "plt.ylabel('Execution Time (s)')\n",
    "plt.grid()\n",
    "plt.savefig(\"Q_Eps_ExecutionTime_R2_small.png\")\n",
    "plt.show()\n",
    "\n",
    "P, R = hiive.mdptoolbox.example.forest(S=4, r1=4, r2=30)\n",
    "mean_value = []\n",
    "policy = []\n",
    "iters = []\n",
    "time_array = []\n",
    "gamma_array = []\n",
    "for i in range(0,10):\n",
    "    st = time.time()\n",
    "    pi = hiive.mdptoolbox.mdp.QLearning(P,R,(i+0.5)/10,epsilon=0.05,epsilon_decay=0.999,n_iter=1000000)\n",
    "    run_stats = pi.run()\n",
    "    end = time.time()\n",
    "    gamma_array.append((i+0.5)/10)\n",
    "    mean_value.append(np.mean(pi.V))\n",
    "    policy.append(pi.policy)\n",
    "    time_array.append(end-st)\n",
    "    Q_table.append(pi.Q)\n",
    "    \n",
    "print(policy)\n",
    "plt.plot(gamma_array,mean_value)\n",
    "plt.xlabel('Gamma')\n",
    "plt.ylabel('Average Rewards')\n",
    "plt.title('Q-Learning, Reward Analysis')\n",
    "plt.grid()\n",
    "plt.savefig(\"Q_AverageRewards_R2_small.png\")\n",
    "plt.show()\n",
    "\n",
    "plt.plot(gamma_array, time_array)\n",
    "plt.xlabel('Gamma')\n",
    "plt.title('Q-Learning, Execution Time Analysis')\n",
    "plt.ylabel('Execution Time (s)')\n",
    "plt.grid()\n",
    "plt.savefig(\"Q_ExecutionTime_R2_small.png\")\n",
    "plt.show()"
   ]
  },
  {
   "cell_type": "code",
   "execution_count": 2,
   "id": "foreign-porter",
   "metadata": {},
   "outputs": [],
   "source": [
    "# environment  = 'FrozenLake8x8-v1'\n",
    "from gym.envs.toy_text import frozen_lake\n",
    "map_size = 20\n",
    "np.random.seed(2)\n",
    "# map_size^2 = state_size\n",
    "custom_map = frozen_lake.generate_random_map(size=map_size, p=0.9)\n",
    "custom_map\n",
    "\n",
    "env = gym.make(\"FrozenLake-v1\", desc=custom_map)\n",
    "# env = gym.make(frozen_lake.FrozenLakeEnv, desc=custom_map)\n",
    "# env = gym.make(environment)\n",
    "env = env.unwrapped\n",
    "desc = env.unwrapped.desc"
   ]
  },
  {
   "cell_type": "code",
   "execution_count": 3,
   "id": "divided-eight",
   "metadata": {},
   "outputs": [],
   "source": [
    "## https://medium.com/@m.alzantot/deep-reinforcement-learning-demysitifed-episode-2-policy-iteration-value-iteration-and-q-978f9e89ddaa\n",
    "def run_episode(env, policy, gamma, render = True):\n",
    "    obs = env.reset()\n",
    "    total_reward = 0\n",
    "    step_idx = 0\n",
    "    st = time.time()\n",
    "    while True:\n",
    "        if render:\n",
    "            env.render()\n",
    "        obs, reward, done , _ = env.step(int(policy[obs]))\n",
    "        total_reward += (gamma ** step_idx * reward)\n",
    "        step_idx += 1\n",
    "        if done or time.time()-st > 0.01:\n",
    "            break\n",
    "    return total_reward\n",
    "\n",
    "def extract_policy(env,v, gamma):\n",
    "    policy = np.zeros(env.nS)\n",
    "    for s in range(env.nS):\n",
    "        q_sa = np.zeros(env.nA)\n",
    "        for a in range(env.nA):\n",
    "            q_sa[a] = sum([p * (r + gamma * v[s_]) for p, s_, r, _ in  env.P[s][a]])\n",
    "        policy[s] = np.argmax(q_sa)\n",
    "    return policy\n",
    "\n",
    "def compute_policy_v(env, policy, gamma):\n",
    "    v = np.zeros(env.nS)\n",
    "    eps = 1e-5\n",
    "    while True:\n",
    "        prev_v = np.copy(v)\n",
    "        for s in range(env.nS):\n",
    "            policy_a = policy[s]\n",
    "            v[s] = sum([p * (r + gamma * prev_v[s_]) for p, s_, r, is_done in env.P[s][policy_a]])\n",
    "        if (np.sum((np.fabs(prev_v - v))) <= eps):\n",
    "            break\n",
    "    return v\n",
    "\n",
    "def evaluate_policy(env, policy, gamma , n = 100):\n",
    "    scores = [run_episode(env, policy, gamma, False) for _ in range(n)]\n",
    "    return np.mean(scores)\n",
    "\n",
    "def plot_policy_map(title, policy, map_desc, color_map, direction_map):\n",
    "    fig = plt.figure()\n",
    "    ax = fig.add_subplot(111, xlim=(0, policy.shape[1]), ylim=(0, policy.shape[0]))\n",
    "    font_size = 'x-large'\n",
    "    if policy.shape[1] > 16:\n",
    "        font_size = 'small'\n",
    "    plt.title(title)\n",
    "    for i in range(policy.shape[0]):\n",
    "        for j in range(policy.shape[1]):\n",
    "            y = policy.shape[0] - i - 1\n",
    "            x = j\n",
    "            p = plt.Rectangle([x, y], 1, 1)\n",
    "            p.set_facecolor(color_map[map_desc[i,j]])\n",
    "            ax.add_patch(p)\n",
    "\n",
    "            text = ax.text(x+0.5, y+0.5, direction_map[policy[i, j]], weight='bold', size=font_size,\n",
    "                           horizontalalignment='center', verticalalignment='center', color='w')\n",
    "\n",
    "\n",
    "    plt.axis('off')\n",
    "    plt.xlim((0, policy.shape[1]))\n",
    "    plt.ylim((0, policy.shape[0]))\n",
    "    plt.tight_layout()\n",
    "    plt.show()\n",
    "#     plt.savefig([title, '.png'])\n",
    "    plt.close()\n",
    "\n",
    "    return (plt)\n",
    "\n",
    "def colors_lake():\n",
    "    return {\n",
    "        b'S': 'red',\n",
    "        b'F': 'skyblue',\n",
    "        b'H': 'black',\n",
    "        b'G': 'green',\n",
    "    }\n",
    "\n",
    "def directions_lake():\n",
    "    return {\n",
    "        3: '⬆',\n",
    "        2: '➡',\n",
    "        1: '⬇',\n",
    "        0: '⬅'\n",
    "    }"
   ]
  },
  {
   "cell_type": "code",
   "execution_count": 4,
   "id": "remarkable-metallic",
   "metadata": {},
   "outputs": [],
   "source": [
    "def policy_iteration(env, gamma):\n",
    "    policy = np.random.choice(env.nA, size=(env.nS))  \n",
    "    max_iters = 3000\n",
    "    desc = env.unwrapped.desc\n",
    "    for i in range(max_iters):\n",
    "        old_policy_v = compute_policy_v(env, policy, gamma)\n",
    "        new_policy = extract_policy(env,old_policy_v, gamma)\n",
    "        if (np.all(policy == new_policy)):\n",
    "            k=i+1\n",
    "            break\n",
    "        policy = new_policy\n",
    "        k = 1+1\n",
    "        if i % 50 == 0:\n",
    "            print(i)\n",
    "    plot = plot_policy_map('PI Policy Map, Iteration '+ str(i) + ', Gamma: ' + str(gamma),policy.reshape(map_size,map_size),desc,colors_lake(),directions_lake())\n",
    "    return policy,k"
   ]
  },
  {
   "cell_type": "code",
   "execution_count": 5,
   "id": "dramatic-behavior",
   "metadata": {
    "scrolled": false
   },
   "outputs": [
    {
     "name": "stdout",
     "output_type": "stream",
     "text": [
      "0\n",
      "50\n",
      "100\n",
      "150\n",
      "200\n",
      "250\n",
      "300\n",
      "350\n",
      "400\n",
      "450\n",
      "500\n",
      "550\n",
      "600\n",
      "650\n",
      "700\n",
      "750\n",
      "800\n",
      "850\n",
      "900\n",
      "950\n",
      "1000\n",
      "1050\n",
      "1100\n",
      "1150\n",
      "1200\n",
      "1250\n",
      "1300\n",
      "1350\n",
      "1400\n",
      "1450\n",
      "1500\n",
      "1550\n",
      "1600\n",
      "1650\n",
      "1700\n",
      "1750\n",
      "1800\n",
      "1850\n",
      "1900\n",
      "1950\n",
      "2000\n",
      "2050\n",
      "2100\n",
      "2150\n",
      "2200\n",
      "2250\n",
      "2300\n",
      "2350\n",
      "2400\n",
      "2450\n",
      "2500\n",
      "2550\n",
      "2600\n",
      "2650\n",
      "2700\n",
      "2750\n",
      "2800\n",
      "2850\n",
      "2900\n",
      "2950\n"
     ]
    },
    {
     "data": {
      "image/png": "[encoded data removed]",
      "text/plain": [
       "<Figure size 432x288 with 1 Axes>"
      ]
     },
     "metadata": {
      "needs_background": "light"
     },
     "output_type": "display_data"
    },
    {
     "name": "stdout",
     "output_type": "stream",
     "text": [
      "-0.00012846312276357138\n",
      "0\n"
     ]
    },
    {
     "data": {
      "image/png": "[encoded data removed]",
      "text/plain": [
       "<Figure size 432x288 with 1 Axes>"
      ]
     },
     "metadata": {
      "needs_background": "light"
     },
     "output_type": "display_data"
    },
    {
     "name": "stdout",
     "output_type": "stream",
     "text": [
      "-0.00015785703310480825\n",
      "0\n"
     ]
    },
    {
     "data": {
      "image/png": "[encoded data removed]",
      "text/plain": [
       "<Figure size 432x288 with 1 Axes>"
      ]
     },
     "metadata": {
      "needs_background": "light"
     },
     "output_type": "display_data"
    },
    {
     "name": "stdout",
     "output_type": "stream",
     "text": [
      "-0.0005828887215682209\n",
      "0\n"
     ]
    },
    {
     "data": {
      "image/png": "[encoded data removed]",
      "text/plain": [
       "<Figure size 432x288 with 1 Axes>"
      ]
     },
     "metadata": {
      "needs_background": "light"
     },
     "output_type": "display_data"
    },
    {
     "name": "stdout",
     "output_type": "stream",
     "text": [
      "0.017535714802268586\n",
      "0\n"
     ]
    },
    {
     "data": {
      "image/png": "[encoded data removed]",
      "text/plain": [
       "<Figure size 432x288 with 1 Axes>"
      ]
     },
     "metadata": {
      "needs_background": "light"
     },
     "output_type": "display_data"
    },
    {
     "name": "stdout",
     "output_type": "stream",
     "text": [
      "0.7318212075569669\n",
      "0\n"
     ]
    },
    {
     "data": {
      "image/png": "[encoded data removed]",
      "text/plain": [
       "<Figure size 432x288 with 1 Axes>"
      ]
     },
     "metadata": {
      "needs_background": "light"
     },
     "output_type": "display_data"
    },
    {
     "name": "stdout",
     "output_type": "stream",
     "text": [
      "5.438526300305588\n",
      "0\n"
     ]
    },
    {
     "data": {
      "image/png": "[encoded data removed]",
      "text/plain": [
       "<Figure size 432x288 with 1 Axes>"
      ]
     },
     "metadata": {
      "needs_background": "light"
     },
     "output_type": "display_data"
    },
    {
     "name": "stdout",
     "output_type": "stream",
     "text": [
      "9.92529\n",
      "[0.2, 0.4, 0.8, 0.9, 0.95, 0.99, 1]\n",
      "[69.48483204841614, 3.2179055213928223, 4.32256817817688, 4.152074575424194, 7.361583948135376, 12.16725206375122, 13.51829743385315]\n",
      "[-0.00012846312276357138, -0.00015785703310480825, -0.0005828887215682209, 0.017535714802268586, 0.7318212075569669, 5.438526300305588, 9.92529]\n",
      "[2, 11, 14, 15, 13, 15, 12]\n"
     ]
    },
    {
     "data": {
      "image/png": "[encoded data removed]",
      "text/plain": [
       "<Figure size 432x288 with 1 Axes>"
      ]
     },
     "metadata": {
      "needs_background": "light"
     },
     "output_type": "display_data"
    },
    {
     "data": {
      "image/png": "[encoded data removed]",
      "text/plain": [
       "<Figure size 432x288 with 1 Axes>"
      ]
     },
     "metadata": {
      "needs_background": "light"
     },
     "output_type": "display_data"
    },
    {
     "data": {
      "image/png": "[encoded data removed]",
      "text/plain": [
       "<Figure size 432x288 with 1 Axes>"
      ]
     },
     "metadata": {
      "needs_background": "light"
     },
     "output_type": "display_data"
    }
   ],
   "source": [
    "time_array=[0]*7\n",
    "gamma_arr=[0]*7\n",
    "iters=[0]*7\n",
    "list_scores=[0]*7\n",
    "\n",
    "for i, gamma in enumerate([0.2, 0.4, 0.8, 0.9, 0.95, 0.99, 1]):\n",
    "    st=time.time()\n",
    "    best_policy,k = policy_iteration(env, gamma = gamma)\n",
    "    scores = evaluate_policy(env, best_policy, gamma = gamma)\n",
    "    print(scores)\n",
    "    end=time.time()\n",
    "    gamma_arr[i]=gamma\n",
    "    list_scores[i]=np.mean(scores)\n",
    "    iters[i] = k\n",
    "    time_array[i]=end-st\n",
    "\n",
    "print(gamma_arr)\n",
    "print(time_array)\n",
    "print(list_scores)\n",
    "print(iters)\n",
    "plt.plot(gamma_arr, time_array)\n",
    "plt.xlabel('Gammas')\n",
    "plt.title('Policy Iteration, Execution Time Analysis')\n",
    "plt.ylabel('Execution Time (s)')\n",
    "plt.grid()\n",
    "plt.savefig(\"PI_ExecutionTime_FL.png\")\n",
    "plt.show()\n",
    "\n",
    "plt.plot(gamma_arr,list_scores)\n",
    "plt.xlabel('Gammas')\n",
    "plt.ylabel('Average Rewards')\n",
    "plt.title('Policy Iteration, Reward Analysis')\n",
    "plt.grid()\n",
    "plt.savefig(\"PI_AverageRewards_FL.png\")\n",
    "plt.show()\n",
    "\n",
    "plt.plot(gamma_arr,iters)\n",
    "plt.xlabel('Gammas')\n",
    "plt.ylabel('Iterations to Converge')\n",
    "plt.title('Policy Iteration, Convergence Analysis')\n",
    "plt.grid()\n",
    "plt.savefig(\"PI_Convergence_FL.png\")\n",
    "plt.show()"
   ]
  },
  {
   "cell_type": "code",
   "execution_count": 6,
   "id": "needed-store",
   "metadata": {},
   "outputs": [],
   "source": [
    "def value_iteration(env, gamma = 1.0):\n",
    "    v = np.zeros(env.nS)  # initialize value-function\n",
    "    max_iterations = 10000\n",
    "    desc = env.unwrapped.desc\n",
    "    eps = 1e-20\n",
    "    for i in range(max_iterations):\n",
    "        if i % 500 == 0:\n",
    "            print(i)\n",
    "        prev_v = np.copy(v)\n",
    "        for s in range(env.nS):\n",
    "            q_sa = [sum([p*(r + prev_v[s_]) for p, s_, r, _ in env.P[s][a]]) for a in range(env.nA)] \n",
    "            v[s] = max(q_sa)\n",
    "        if (np.sum(np.fabs(prev_v - v)) <= eps):\n",
    "            k = i+1\n",
    "            break\n",
    "        k = i+1\n",
    "    policy = extract_policy(env, v, gamma)\n",
    "    plot = plot_policy_map('VI Policy Map, Iteration '+ str(i) + ', Gamma: ' + str(gamma),policy.reshape(map_size,map_size),desc,colors_lake(),directions_lake())\n",
    "    return v, k"
   ]
  },
  {
   "cell_type": "code",
   "execution_count": 7,
   "id": "logical-glenn",
   "metadata": {
    "scrolled": false
   },
   "outputs": [
    {
     "name": "stdout",
     "output_type": "stream",
     "text": [
      "0\n",
      "500\n"
     ]
    },
    {
     "data": {
      "image/png": "[encoded data removed]",
      "text/plain": [
       "<Figure size 432x288 with 1 Axes>"
      ]
     },
     "metadata": {
      "needs_background": "light"
     },
     "output_type": "display_data"
    },
    {
     "name": "stdout",
     "output_type": "stream",
     "text": [
      "-0.00010901075724880525\n",
      "0\n",
      "500\n"
     ]
    },
    {
     "data": {
      "image/png": "[encoded data removed]",
      "text/plain": [
       "<Figure size 432x288 with 1 Axes>"
      ]
     },
     "metadata": {
      "needs_background": "light"
     },
     "output_type": "display_data"
    },
    {
     "name": "stdout",
     "output_type": "stream",
     "text": [
      "-0.0001835761946105318\n",
      "0\n",
      "500\n"
     ]
    },
    {
     "data": {
      "image/png": "[encoded data removed]",
      "text/plain": [
       "<Figure size 432x288 with 1 Axes>"
      ]
     },
     "metadata": {
      "needs_background": "light"
     },
     "output_type": "display_data"
    },
    {
     "name": "stdout",
     "output_type": "stream",
     "text": [
      "-0.0014597044087500356\n",
      "0\n",
      "500\n"
     ]
    },
    {
     "data": {
      "image/png": "[encoded data removed]",
      "text/plain": [
       "<Figure size 432x288 with 1 Axes>"
      ]
     },
     "metadata": {
      "needs_background": "light"
     },
     "output_type": "display_data"
    },
    {
     "name": "stdout",
     "output_type": "stream",
     "text": [
      "-0.00022555976637500633\n",
      "0\n",
      "500\n"
     ]
    },
    {
     "data": {
      "image/png": "[encoded data removed]",
      "text/plain": [
       "<Figure size 432x288 with 1 Axes>"
      ]
     },
     "metadata": {
      "needs_background": "light"
     },
     "output_type": "display_data"
    },
    {
     "name": "stdout",
     "output_type": "stream",
     "text": [
      "0.20192653979466169\n",
      "0\n",
      "500\n"
     ]
    },
    {
     "data": {
      "image/png": "[encoded data removed]",
      "text/plain": [
       "<Figure size 432x288 with 1 Axes>"
      ]
     },
     "metadata": {
      "needs_background": "light"
     },
     "output_type": "display_data"
    },
    {
     "name": "stdout",
     "output_type": "stream",
     "text": [
      "4.299868606601219\n",
      "0\n",
      "500\n"
     ]
    },
    {
     "data": {
      "image/png": "[encoded data removed]",
      "text/plain": [
       "<Figure size 432x288 with 1 Axes>"
      ]
     },
     "metadata": {
      "needs_background": "light"
     },
     "output_type": "display_data"
    },
    {
     "name": "stdout",
     "output_type": "stream",
     "text": [
      "9.92715\n",
      "[0.2, 0.4, 0.8, 0.9, 0.95, 0.99, 1]\n",
      "[6.422956705093384, 7.134263753890991, 5.9309961795806885, 5.702956199645996, 5.818305730819702, 5.764799356460571, 7.2698163986206055]\n",
      "[-0.00010901075724880525, -0.0001835761946105318, -0.0014597044087500356, -0.00022555976637500633, 0.20192653979466169, 4.299868606601219, 9.92715]\n",
      "[915, 915, 915, 915, 915, 915, 915]\n"
     ]
    },
    {
     "data": {
      "image/png": "[encoded data removed]",
      "text/plain": [
       "<Figure size 432x288 with 1 Axes>"
      ]
     },
     "metadata": {
      "needs_background": "light"
     },
     "output_type": "display_data"
    },
    {
     "data": {
      "image/png": "[encoded data removed]",
      "text/plain": [
       "<Figure size 432x288 with 1 Axes>"
      ]
     },
     "metadata": {
      "needs_background": "light"
     },
     "output_type": "display_data"
    },
    {
     "data": {
      "image/png": "[encoded data removed]",
      "text/plain": [
       "<Figure size 432x288 with 1 Axes>"
      ]
     },
     "metadata": {
      "needs_background": "light"
     },
     "output_type": "display_data"
    }
   ],
   "source": [
    "time_array=[0]*7\n",
    "gamma_arr=[0]*7\n",
    "iters=[0]*7\n",
    "list_scores=[0]*7\n",
    "\n",
    "for i, gamma in enumerate([0.2, 0.4, 0.8, 0.9, 0.95, 0.99, 1]):\n",
    "    st=time.time()\n",
    "    optimal_v, k = value_iteration(env, gamma = gamma)\n",
    "    policy = extract_policy(env, optimal_v, gamma)\n",
    "    scores = evaluate_policy(env, policy, gamma = gamma)\n",
    "    print(scores)\n",
    "    end=time.time()\n",
    "    gamma_arr[i]=gamma\n",
    "    list_scores[i]=np.mean(scores)\n",
    "    iters[i] = k\n",
    "    time_array[i]=end-st\n",
    "\n",
    "print(gamma_arr)\n",
    "print(time_array)\n",
    "print(list_scores)\n",
    "print(iters)\n",
    "plt.plot(gamma_arr, time_array)\n",
    "plt.xlabel('Gammas')\n",
    "plt.title('Value Iteration, Execution Time Analysis')\n",
    "plt.ylabel('Execution Time (s)')\n",
    "plt.grid()\n",
    "plt.savefig(\"VI_ExecutionTime_FL.png\")\n",
    "plt.show()\n",
    "\n",
    "plt.plot(gamma_arr,list_scores)\n",
    "plt.xlabel('Gammas')\n",
    "plt.ylabel('Average Rewards')\n",
    "plt.title('Value Iteration, Reward Analysis')\n",
    "plt.grid()\n",
    "plt.savefig(\"VI_AverageRewards_FL.png\")\n",
    "plt.show()\n",
    "\n",
    "plt.plot(gamma_arr,iters)\n",
    "plt.xlabel('Gammas')\n",
    "plt.ylabel('Iterations to Converge')\n",
    "plt.title('Value Iteration, Convergence Analysis')\n",
    "plt.grid()\n",
    "plt.savefig(\"VI_Convergence_FL.png\")\n",
    "plt.show()"
   ]
  },
  {
   "cell_type": "code",
   "execution_count": 8,
   "id": "fabulous-navigator",
   "metadata": {},
   "outputs": [],
   "source": [
    "# environment  = 'FrozenLake8x8-v1'\n",
    "from gym.envs.toy_text import frozen_lake\n",
    "map_size = 10\n",
    "np.random.seed(2)\n",
    "# map_size^2 = state_size\n",
    "custom_map = frozen_lake.generate_random_map(size=map_size, p=0.9)\n",
    "custom_map\n",
    "\n",
    "env = gym.make(\"FrozenLake-v1\", desc=custom_map)\n",
    "# env = gym.make(frozen_lake.FrozenLakeEnv, desc=custom_map)\n",
    "# env = gym.make(environment)\n",
    "env = env.unwrapped\n",
    "desc = env.unwrapped.desc"
   ]
  },
  {
   "cell_type": "code",
   "execution_count": 9,
   "id": "black-preparation",
   "metadata": {
    "scrolled": true
   },
   "outputs": [
    {
     "name": "stdout",
     "output_type": "stream",
     "text": [
      "###### LEARNING #####\n",
      "0\n",
      "10000\n",
      "20000\n",
      "30000\n",
      "40000\n",
      "episodes      : 50000\n",
      "total reward  : -489621.95599999523\n",
      "average reward: -9.79\n",
      "Q Value       :[[-1.04745908e-04 -5.40972396e-04 -5.56896208e-04 -1.08714972e-04]\n",
      " [-1.10536741e-04 -6.27227477e-04 -8.14581814e-04 -6.01510343e-04]\n",
      " [-6.28367998e-04 -8.81061074e-04 -8.92466633e-04 -8.03103263e-04]\n",
      " [-8.34387145e-04 -9.14002012e-04 -9.26938548e-04 -9.18875856e-04]\n",
      " [-9.11929936e-04 -8.60935252e-04 -8.58504907e-04 -9.19702870e-04]\n",
      " [-9.18939302e-04 -7.62082404e-04 -8.42677371e-04 -8.79194471e-04]\n",
      " [-8.48949247e-04 -7.65046454e-04 -8.22428090e-04 -8.72401695e-04]\n",
      " [-8.63604771e-04 -8.22775357e-04 -9.56367876e-04 -9.27647343e-04]\n",
      " [-9.16840334e-04 -9.15265991e-04 -9.65103041e-04 -9.60425998e-04]\n",
      " [-9.59319063e-04 -9.58519522e-04 -9.77632706e-04 -9.78225493e-04]\n",
      " [-5.01786009e-04 -7.99726229e-04 -4.86462464e-04 -8.15507810e-05]\n",
      " [-5.69790893e-04 -7.62075069e-04 -8.94726778e-04 -5.60391229e-04]\n",
      " [-7.94254418e-04 -8.82485940e-04 -8.90326803e-04 -8.22960690e-04]\n",
      " [-8.86230904e-04 -8.30739620e-04 -8.36492400e-04 -9.05639783e-04]\n",
      " [-8.79055704e-04 -7.11776374e-04 -7.62897660e-04 -8.92180891e-04]\n",
      " [-7.91641825e-04 -5.18289045e-04 -7.29279593e-04 -8.52286990e-04]\n",
      " [-5.83583722e-04 -5.45602874e-04 -7.44967896e-04 -8.51513934e-04]\n",
      " [-7.15754402e-04 -6.40777929e-04 -9.08444345e-04 -8.71671247e-04]\n",
      " [-8.21240887e-04 -8.18366476e-04 -9.09237773e-04 -9.24694701e-04]\n",
      " [-9.13525582e-04 -9.31984745e-04 -9.53112205e-04 -9.76037292e-04]\n",
      " [-8.39639397e-04 -9.00532410e-04 -8.91441945e-04 -5.89988078e-04]\n",
      " [-8.43679416e-04 -8.80523527e-04 -8.78952211e-04 -8.03925854e-04]\n",
      " [-8.92653828e-04 -7.82832620e-04 -8.39582004e-04 -8.95563338e-04]\n",
      " [-8.92677112e-04 -6.58841454e-04 -6.66389125e-04 -8.59609689e-04]\n",
      " [-8.08798068e-04 -3.47251887e-04 -4.12184832e-04 -8.33588594e-04]\n",
      " [-6.01777225e-04 -3.05578942e-05 -3.70506285e-04 -5.53058635e-04]\n",
      " [-3.41575185e-04  2.03115967e-04 -5.41507558e-04 -6.93955750e-04]\n",
      " [-4.57804621e-04 -1.51273241e-04 -6.01430365e-04 -6.41037477e-04]\n",
      " [-6.74612762e-04 -6.93104812e-04 -8.29959754e-04 -8.58565851e-04]\n",
      " [-8.77584738e-04 -9.37464763e-04 -9.40943544e-04 -9.48570494e-04]\n",
      " [-8.82294178e-02 -4.39435339e+00 -1.13248670e+00 -8.48126656e-04]\n",
      " [-9.27326735e-04 -8.10370664e-04 -7.84330594e-04 -9.03975393e-04]\n",
      " [-8.14123428e-04 -5.85234608e-04 -6.80877361e-04 -8.57334991e-04]\n",
      " [-7.51545711e-04 -2.87341478e-04 -3.40544793e-04 -7.02241785e-04]\n",
      " [-1.34078422e-04  7.50414270e-04  7.30279062e-05 -6.09258714e-04]\n",
      " [ 8.84229885e-05  2.22826051e-03  1.10119325e-03 -2.27882323e-04]\n",
      " [ 1.16405252e-03  2.43824371e-03  7.87730736e-04 -1.42072604e-04]\n",
      " [ 9.07251379e-04  1.24341995e-03 -5.42155583e-04 -5.25167387e-04]\n",
      " [-2.56971980e-04 -8.83116736e-04 -9.82309692e-04 -7.78095564e-04]\n",
      " [-6.48334920e-01 -3.86944461e+00 -2.22044461e-03 -9.31001327e-04]\n",
      " [ 0.00000000e+00  0.00000000e+00  0.00000000e+00  0.00000000e+00]\n",
      " [-3.90459776e+00 -1.71428367e-01 -6.65968109e-04 -2.93813974e-01]\n",
      " [-7.77100562e-04 -3.25021319e-05 -3.24858585e-04 -7.53974426e-04]\n",
      " [-4.48247738e-04  4.68874932e-04  1.04194565e-03 -2.60667759e-04]\n",
      " [ 2.18518806e-04  3.57119436e-03  2.47650500e-03  5.36964508e-04]\n",
      " [ 1.05937815e-03  7.05397502e-03  3.79264355e-03  6.16909761e-04]\n",
      " [ 4.06316295e-03  7.02340622e-03  1.37154362e-03  1.22804393e-03]\n",
      " [ 3.03925108e-03  3.59245134e-03 -2.51567195e-04  7.87529803e-04]\n",
      " [-3.16540867e-01 -4.76945877e+00 -4.83320856e+00 -9.30046430e-04]\n",
      " [ 0.00000000e+00  0.00000000e+00  0.00000000e+00  0.00000000e+00]\n",
      " [-2.23694146e-02 -5.59459731e-04 -4.58737820e-01 -4.97561359e+00]\n",
      " [-5.43398201e-04 -1.26216342e-04 -4.54335750e-05 -7.68357946e-04]\n",
      " [-5.25155279e-04  1.00988743e-03  7.85592769e-04 -2.50526558e-04]\n",
      " [ 2.87015195e-04  3.52131063e-03  3.34448321e-03  1.39551773e-03]\n",
      " [ 1.55248994e-03  9.14539117e-03  8.41257349e-03  1.88287348e-03]\n",
      " [ 4.38571256e-03  1.83618646e-02  1.16166705e-02  4.32840921e-03]\n",
      " [ 7.89239444e-03  2.61638593e-02  5.45384409e-03  3.16784065e-03]\n",
      " [ 9.52060241e-03 -1.25125036e-01 -3.93356919e+00 -3.83288205e-01]\n",
      " [ 0.00000000e+00  0.00000000e+00  0.00000000e+00  0.00000000e+00]\n",
      " [ 0.00000000e+00  0.00000000e+00  0.00000000e+00  0.00000000e+00]\n",
      " [-5.25247830e-04 -1.93472893e-04 -5.88620969e-05 -6.93882466e-04]\n",
      " [-5.40392939e-04  8.48510477e-04  1.09887391e-03 -5.20474801e-04]\n",
      " [ 1.05146377e-03  3.28240497e-03  3.65034607e-03  2.21414550e-04]\n",
      " [ 1.54578162e-03  8.61160550e-03  6.59630494e-03  4.67553176e-03]\n",
      " [ 3.74094117e-03  2.03901641e-02  1.85759626e-02  4.73832386e-03]\n",
      " [ 8.42033420e-03  3.83649729e-02  2.87810266e-02  1.95571706e-02]\n",
      " [ 2.84114461e-02  6.75324276e-02  1.94205288e-02  1.21523608e-02]\n",
      " [ 3.18092331e-02 -9.81931910e-02 -4.76584435e+00 -5.43386579e-01]\n",
      " [ 0.00000000e+00  0.00000000e+00  0.00000000e+00  0.00000000e+00]\n",
      " [-4.02255440e+00  6.86019301e-01 -5.79084679e-02 -3.95726156e+00]\n",
      " [-1.21560253e-04  5.67788840e-04  7.94282882e-04 -1.65137710e-04]\n",
      " [ 6.34881319e-04  1.55535177e-03  3.13148368e-03  1.70631120e-05]\n",
      " [ 3.45792389e-03  7.38965860e-03  8.34495015e-03  3.26268887e-03]\n",
      " [ 3.75561113e-03  1.34930322e-02  1.87117383e-02  4.34362376e-03]\n",
      " [ 9.03041940e-03  3.40919010e-02  4.38421927e-02  9.00866091e-03]\n",
      " [ 2.41218880e-02  9.44368690e-02  8.07658881e-02  2.20703613e-02]\n",
      " [ 4.53206562e-02  1.51247144e-01  1.28783137e-01  3.83499153e-02]\n",
      " [ 1.07733890e-01  3.11370283e-01 -6.72525048e-01 -1.29073560e-01]\n",
      " [-3.51273847e+00 -4.20842028e+00 -1.69276249e+00 -3.69452024e+00]\n",
      " [-3.79038863e-02  1.18746054e+00  8.29017103e-01  4.05023843e-01]\n",
      " [ 6.48189220e-04  2.48594419e-03  1.99159863e-03  3.54882650e-04]\n",
      " [ 1.11555576e-03  5.92143228e-03  5.95719460e-03  9.19806480e-04]\n",
      " [ 3.31071112e-03  1.68755557e-02  1.69428401e-02  4.95492434e-03]\n",
      " [ 1.54273864e-02  3.94997969e-02  3.13012190e-02  1.04767764e-02]\n",
      " [ 3.01357005e-02  7.60427862e-02  8.01940262e-02  3.15707214e-02]\n",
      " [ 7.60634914e-02  1.77067697e-01  2.06759125e-01  9.50864032e-02]\n",
      " [ 1.40013054e-01  4.32253778e-01  3.87363106e-01  2.21381009e-01]\n",
      " [ 3.54165077e-01  1.06638062e+00 -2.11715746e+00  4.03271541e-02]\n",
      " [ 0.00000000e+00  0.00000000e+00  0.00000000e+00  0.00000000e+00]\n",
      " [-3.33643341e+00  3.84607744e+00  1.62794626e+00 -2.96559423e-01]\n",
      " [ 2.76608323e-03  2.81130313e-03  7.12517556e-03  1.84488925e-03]\n",
      " [ 3.44296033e-03  8.40913970e-03  1.45822717e-02  2.68686959e-03]\n",
      " [ 7.91165698e-03  1.66207626e-02  3.19512114e-02  8.81980546e-03]\n",
      " [ 1.75188705e-02  3.94830704e-02  7.65342638e-02  3.45603339e-02]\n",
      " [ 3.98794673e-02  1.24809824e-01  1.72849938e-01  4.80815396e-02]\n",
      " [ 8.53339881e-02  1.98763862e-01  3.23977023e-01  1.31234065e-01]\n",
      " [ 1.93687662e-01  5.39867103e-01  8.41165185e-01  2.60651290e-01]\n",
      " [ 4.88652706e-01  1.35798979e+00  2.24428988e+00  4.77522612e-01]\n",
      " [-3.87696102e-02  2.39559340e+00  4.90303278e+00 -2.41725469e+00]\n",
      " [ 0.00000000e+00  0.00000000e+00  0.00000000e+00  0.00000000e+00]]\n",
      "###### TEST #####\n",
      "0\n",
      "100\n",
      "200\n",
      "300\n",
      "400\n",
      "500\n",
      "600\n",
      "700\n",
      "800\n",
      "900\n",
      "episodes      : 1000\n",
      "total reward  : 5408.565000000033\n",
      "average reward: 5.41\n"
     ]
    }
   ],
   "source": [
    "# https://gist.github.com/jojonki/6291f8c3b19799bc2f6d5279232553d7\n",
    "# Q learning params\n",
    "ALPHA = 0.1 # learning rate\n",
    "GAMMA = 0.999 # reward discount\n",
    "LEARNING_COUNT = 50000\n",
    "TEST_COUNT = 1000\n",
    "\n",
    "TURN_LIMIT = 20000\n",
    "\n",
    "class Agent:\n",
    "    def __init__(self, env, map_size):\n",
    "        self.env = env\n",
    "        self.episode_reward = 0.0\n",
    "        self.epsilon = 1.0\n",
    "        self.q_val = np.zeros(map_size * map_size * 4).reshape(map_size*map_size, 4).astype(np.float32)\n",
    "        #exploartion decreasing decay for exponential decreasing\n",
    "        self.epsilon_decay = 0.9999\n",
    "        # minimum of exploration proba\n",
    "        self.epsilon_min = 0.01\n",
    "\n",
    "    def learn(self):\n",
    "        # one episode learning\n",
    "        state = self.env.reset()\n",
    "        total_reward = 0.0\n",
    "        #self.env.render()\n",
    "        \n",
    "        for t in range(TURN_LIMIT):\n",
    "            pn = np.random.random()\n",
    "            if pn < self.epsilon:\n",
    "                act = self.env.action_space.sample() # random\n",
    "            else:\n",
    "                act = self.q_val[state].argmax()\n",
    "            next_state, reward, done, info = self.env.step(act)\n",
    "            total_reward += reward\n",
    "            q_next_max = np.max(self.q_val[next_state])\n",
    "            # Q <- Q + a(Q' - Q)\n",
    "            # <=> Q <- (1-a)Q + a(Q')\n",
    "            self.q_val[state][act] = (1 - ALPHA) * self.q_val[state][act] + ALPHA * (reward + GAMMA * q_next_max - self.q_val[state, act])\n",
    "            #self.env.render()\n",
    "            if done or t == TURN_LIMIT - 1:\n",
    "                return total_reward\n",
    "            else:\n",
    "                state = next_state\n",
    "        self.epsilon = max(self.epsilon_min, self.epsilon_decay*self.epsilon)\n",
    "\n",
    "    def test(self):\n",
    "        state = self.env.reset()\n",
    "        total_reward = 0.0\n",
    "        for t in range(TURN_LIMIT):\n",
    "            act = np.argmax(self.q_val[state])\n",
    "            next_state, reward, done, info = self.env.step(act)\n",
    "            total_reward += reward\n",
    "            if done or t == TURN_LIMIT - 1:\n",
    "                return total_reward\n",
    "            else:\n",
    "                state = next_state\n",
    "        return 0.0 # over limit\n",
    "\n",
    "agent = Agent(env, map_size)\n",
    "\n",
    "print(\"###### LEARNING #####\")\n",
    "reward_total = 0.0\n",
    "for i in range(LEARNING_COUNT):\n",
    "    reward = agent.learn()\n",
    "    reward_total += reward\n",
    "#     print(reward)\n",
    "    if i % 10000 == 0:\n",
    "        print(i)\n",
    "print(\"episodes      : {}\".format(LEARNING_COUNT))\n",
    "print(\"total reward  : {}\".format(reward_total))\n",
    "print(\"average reward: {:.2f}\".format(reward_total / LEARNING_COUNT))\n",
    "print(\"Q Value       :{}\".format(agent.q_val))\n",
    "\n",
    "print(\"###### TEST #####\")\n",
    "reward_total = 0.0\n",
    "for i in range(TEST_COUNT):\n",
    "    reward = agent.test()\n",
    "    reward_total += reward\n",
    "    if i % 100 == 0:\n",
    "        print(i)\n",
    "#     print(reward)\n",
    "print(\"episodes      : {}\".format(TEST_COUNT))\n",
    "print(\"total reward  : {}\".format(reward_total))\n",
    "print(\"average reward: {:.2f}\".format(reward_total / TEST_COUNT))\n",
    "\n",
    "policy = [np.argmax(agent.q_val[state]) for state in range(map_size*map_size)]\n",
    "policy = np.array(policy)"
   ]
  },
  {
   "cell_type": "code",
   "execution_count": 10,
   "id": "durable-drinking",
   "metadata": {},
   "outputs": [
    {
     "data": {
      "image/png": "[encoded data removed]",
      "text/plain": [
       "<Figure size 432x288 with 1 Axes>"
      ]
     },
     "metadata": {
      "needs_background": "light"
     },
     "output_type": "display_data"
    }
   ],
   "source": [
    "plot = plot_policy_map('Q-Learning Policy Map, Gamma: ' + str(GAMMA),policy.reshape(map_size,map_size),desc,colors_lake(),directions_lake())"
   ]
  },
  {
   "cell_type": "code",
   "execution_count": 11,
   "id": "marked-flight",
   "metadata": {
    "scrolled": true
   },
   "outputs": [
    {
     "name": "stdout",
     "output_type": "stream",
     "text": [
      "###### LEARNING #####\n",
      "0\n",
      "10000\n",
      "20000\n",
      "30000\n",
      "40000\n",
      "gamma         : 0.2\n",
      "episodes      : 50000\n",
      "total reward  : -490027.87299999763\n",
      "average reward: -9.80\n",
      "###### TEST #####\n",
      "0\n",
      "100\n",
      "200\n",
      "300\n",
      "400\n",
      "500\n",
      "600\n",
      "700\n",
      "800\n",
      "900\n",
      "episodes      : 1000\n",
      "total reward  : -2467.531999999841\n",
      "average reward: -2.47\n",
      "###### LEARNING #####\n",
      "0\n",
      "10000\n",
      "20000\n",
      "30000\n",
      "40000\n",
      "gamma         : 0.4\n",
      "episodes      : 50000\n",
      "total reward  : -489198.78199999715\n",
      "average reward: -9.78\n",
      "###### TEST #####\n",
      "0\n",
      "100\n",
      "200\n",
      "300\n",
      "400\n",
      "500\n",
      "600\n",
      "700\n",
      "800\n",
      "900\n",
      "episodes      : 1000\n",
      "total reward  : -2466.1469999998417\n",
      "average reward: -2.47\n",
      "###### LEARNING #####\n",
      "0\n",
      "10000\n",
      "20000\n",
      "30000\n",
      "40000\n",
      "gamma         : 0.8\n",
      "episodes      : 50000\n",
      "total reward  : -489566.3250000001\n",
      "average reward: -9.79\n",
      "###### TEST #####\n",
      "0\n",
      "100\n",
      "200\n",
      "300\n",
      "400\n",
      "500\n",
      "600\n",
      "700\n",
      "800\n",
      "900\n",
      "episodes      : 1000\n",
      "total reward  : -653.6619999998619\n",
      "average reward: -0.65\n",
      "###### LEARNING #####\n",
      "0\n",
      "10000\n",
      "20000\n",
      "30000\n",
      "40000\n",
      "gamma         : 0.9\n",
      "episodes      : 50000\n",
      "total reward  : -489252.6549999948\n",
      "average reward: -9.79\n",
      "###### TEST #####\n",
      "0\n",
      "100\n",
      "200\n",
      "300\n",
      "400\n",
      "500\n",
      "600\n",
      "700\n",
      "800\n",
      "900\n",
      "episodes      : 1000\n",
      "total reward  : -632.9409999998643\n",
      "average reward: -0.63\n",
      "###### LEARNING #####\n",
      "0\n",
      "10000\n",
      "20000\n",
      "30000\n",
      "40000\n",
      "gamma         : 0.95\n",
      "episodes      : 50000\n",
      "total reward  : -489170.48200000095\n",
      "average reward: -9.78\n",
      "###### TEST #####\n",
      "0\n",
      "100\n",
      "200\n",
      "300\n",
      "400\n",
      "500\n",
      "600\n",
      "700\n",
      "800\n",
      "900\n",
      "episodes      : 1000\n",
      "total reward  : 5998.666000000039\n",
      "average reward: 6.00\n",
      "###### LEARNING #####\n",
      "0\n",
      "10000\n",
      "20000\n",
      "30000\n",
      "40000\n",
      "gamma         : 0.99\n",
      "episodes      : 50000\n",
      "total reward  : -490231.0470000031\n",
      "average reward: -9.80\n",
      "###### TEST #####\n",
      "0\n",
      "100\n",
      "200\n",
      "300\n",
      "400\n",
      "500\n",
      "600\n",
      "700\n",
      "800\n",
      "900\n",
      "episodes      : 1000\n",
      "total reward  : 5377.119000000041\n",
      "average reward: 5.38\n",
      "###### LEARNING #####\n",
      "0\n",
      "10000\n",
      "20000\n",
      "30000\n",
      "40000\n",
      "gamma         : 1\n",
      "episodes      : 50000\n",
      "total reward  : -489300.55799999984\n",
      "average reward: -9.79\n",
      "###### TEST #####\n",
      "0\n",
      "100\n",
      "200\n",
      "300\n",
      "400\n",
      "500\n",
      "600\n",
      "700\n",
      "800\n",
      "900\n",
      "episodes      : 1000\n",
      "total reward  : 5384.692000000046\n",
      "average reward: 5.38\n",
      "[0.2, 0.4, 0.8, 0.9, 0.95, 0.99, 1]\n",
      "[164.2761731147766, 171.20832204818726, 160.19411706924438, 185.41043877601624, 163.3537871837616, 160.8866548538208, 160.39908146858215]\n",
      "[-9.800557459999952, -9.783975639999943, -9.791326500000002, -9.785053099999896, -9.783409640000018, -9.804620940000062, -9.786011159999997]\n"
     ]
    },
    {
     "data": {
      "image/png": "[encoded data removed]",
      "text/plain": [
       "<Figure size 432x288 with 1 Axes>"
      ]
     },
     "metadata": {
      "needs_background": "light"
     },
     "output_type": "display_data"
    },
    {
     "data": {
      "image/png": "[encoded data removed]",
      "text/plain": [
       "<Figure size 432x288 with 1 Axes>"
      ]
     },
     "metadata": {
      "needs_background": "light"
     },
     "output_type": "display_data"
    },
    {
     "data": {
      "image/png": "[encoded data removed]",
      "text/plain": [
       "<Figure size 432x288 with 1 Axes>"
      ]
     },
     "metadata": {
      "needs_background": "light"
     },
     "output_type": "display_data"
    }
   ],
   "source": [
    "time_array=[0]*7\n",
    "gamma_arr=[0]*7\n",
    "list_scores=[0]*7\n",
    "list_scores_test=[0]*7\n",
    "policy = []\n",
    "\n",
    "for j, gamma in enumerate([0.2, 0.4, 0.8, 0.9, 0.95, 0.99, 1]):\n",
    "    st=time.time()\n",
    "    GAMMA = gamma\n",
    "    agent = Agent(env, map_size)\n",
    "    print(\"###### LEARNING #####\")\n",
    "    reward_total = 0.0\n",
    "    for i in range(LEARNING_COUNT):\n",
    "        reward = agent.learn()\n",
    "        reward_total += reward\n",
    "    #     print(reward)\n",
    "        if i % 10000 == 0:\n",
    "            print(i)\n",
    "    print(\"gamma         : {}\".format(GAMMA))\n",
    "    print(\"episodes      : {}\".format(LEARNING_COUNT))\n",
    "    print(\"total reward  : {}\".format(reward_total))\n",
    "    print(\"average reward: {:.2f}\".format(reward_total / LEARNING_COUNT))\n",
    "#     print(\"Q Value       :{}\".format(agent.q_val))\n",
    "    end=time.time()\n",
    "    gamma_arr[j]=gamma\n",
    "    list_scores[j]=reward_total / LEARNING_COUNT\n",
    "    time_array[j]=end-st\n",
    "    \n",
    "    print(\"###### TEST #####\")\n",
    "    reward_total = 0.0\n",
    "    for i in range(TEST_COUNT):\n",
    "        reward = agent.test()\n",
    "        reward_total += reward\n",
    "        if i % 100 == 0:\n",
    "            print(i)\n",
    "    #     print(reward)\n",
    "    print(\"episodes      : {}\".format(TEST_COUNT))\n",
    "    print(\"total reward  : {}\".format(reward_total))\n",
    "    print(\"average reward: {:.2f}\".format(reward_total / TEST_COUNT))\n",
    "    \n",
    "    policy_curr = [np.argmax(agent.q_val[state]) for state in range(map_size*map_size)]\n",
    "    policy_curr = np.array(policy_curr)\n",
    "    policy.append(policy_curr)\n",
    "    list_scores_test[j]=reward_total / TEST_COUNT\n",
    "\n",
    "print(gamma_arr)\n",
    "print(time_array)\n",
    "print(list_scores)\n",
    "plt.plot(gamma_arr, time_array)\n",
    "plt.xlabel('Gammas')\n",
    "plt.title('Q-Learning, Execution Time Analysis')\n",
    "plt.ylabel('Execution Time (s)')\n",
    "plt.grid()\n",
    "plt.savefig(\"Q_ExecutionTime_FL.png\")\n",
    "plt.show()\n",
    "\n",
    "plt.plot(gamma_arr,list_scores)\n",
    "plt.xlabel('Gammas')\n",
    "plt.ylabel('Average Rewards')\n",
    "plt.title('Q-Learning, Reward Analysis')\n",
    "plt.grid()\n",
    "plt.savefig(\"Q_AverageRewards_FL.png\")\n",
    "plt.show()\n",
    "\n",
    "plt.plot(gamma_arr,list_scores_test)\n",
    "plt.xlabel('Gammas')\n",
    "plt.ylabel('Average Rewards')\n",
    "plt.title('Q-Learning, Reward Analysis (Test Cases)')\n",
    "plt.grid()\n",
    "plt.savefig(\"Q_AverageRewardsTest_FL.png\")\n",
    "plt.show()\n",
    "\n",
    "# agent = Agent(env, map_size)\n",
    "\n",
    "# print(\"###### LEARNING #####\")\n",
    "# reward_total = 0.0\n",
    "# for i in range(LEARNING_COUNT):\n",
    "#     reward = agent.learn()\n",
    "#     reward_total += reward\n",
    "# #     print(reward)\n",
    "#     if i % 10000 == 0:\n",
    "#         print(i)\n",
    "# print(\"episodes      : {}\".format(LEARNING_COUNT))\n",
    "# print(\"total reward  : {}\".format(reward_total))\n",
    "# print(\"average reward: {:.2f}\".format(reward_total / LEARNING_COUNT))\n",
    "# print(\"Q Value       :{}\".format(agent.q_val))\n",
    "\n",
    "# print(\"###### TEST #####\")\n",
    "# reward_total = 0.0\n",
    "# for i in range(TEST_COUNT):\n",
    "#     reward = agent.test()\n",
    "#     reward_total += reward\n",
    "#     if i % 100 == 0:\n",
    "#         print(i)\n",
    "# #     print(reward)\n",
    "# print(\"episodes      : {}\".format(TEST_COUNT))\n",
    "# print(\"total reward  : {}\".format(reward_total))\n",
    "# print(\"average reward: {:.2f}\".format(reward_total / TEST_COUNT))\n",
    "\n",
    "# policy = [np.argmax(agent.q_val[state]) for state in range(map_size*map_size)]\n",
    "# policy = np.array(policy)"
   ]
  },
  {
   "cell_type": "code",
   "execution_count": 13,
   "id": "silent-monitoring",
   "metadata": {},
   "outputs": [
    {
     "name": "stdout",
     "output_type": "stream",
     "text": [
      "[-2.467531999999841, -2.4661469999998418, -0.6536619999998619, -0.6329409999998643, 5.998666000000039, 5.37711900000004, 5.384692000000046]\n"
     ]
    }
   ],
   "source": [
    "print(list_scores_test)"
   ]
  },
  {
   "cell_type": "code",
   "execution_count": 15,
   "id": "congressional-decision",
   "metadata": {
    "scrolled": true
   },
   "outputs": [
    {
     "data": {
      "image/png": "[encoded data removed]",
      "text/plain": [
       "<Figure size 432x288 with 1 Axes>"
      ]
     },
     "metadata": {
      "needs_background": "light"
     },
     "output_type": "display_data"
    }
   ],
   "source": [
    "plot = plot_policy_map('Q-Learning Policy Map, Gamma: ' + str(0.95),policy[4].reshape(map_size,map_size),desc,colors_lake(),directions_lake())"
   ]
  },
  {
   "cell_type": "code",
   "execution_count": null,
   "id": "obvious-kinase",
   "metadata": {},
   "outputs": [],
   "source": [
    "# environment  = 'FrozenLake8x8-v1'\n",
    "from gym.envs.toy_text import frozen_lake\n",
    "map_size = 8\n",
    "np.random.seed(2)\n",
    "# map_size^2 = state_size\n",
    "custom_map = frozen_lake.generate_random_map(size=map_size, p=0.9)\n",
    "custom_map\n",
    "\n",
    "env = gym.make(\"FrozenLake-v1\", desc=custom_map)\n",
    "# env = gym.make(frozen_lake.FrozenLakeEnv, desc=custom_map)\n",
    "# env = gym.make(environment)\n",
    "env = env.unwrapped\n",
    "desc = env.unwrapped.desc"
   ]
  },
  {
   "cell_type": "code",
   "execution_count": null,
   "id": "exact-puzzle",
   "metadata": {},
   "outputs": [],
   "source": [
    "time_array=[0]*7\n",
    "gamma_arr=[0]*7\n",
    "list_scores=[0]*7\n",
    "list_scores_test=[0]*7\n",
    "policy = []\n",
    "\n",
    "for j, gamma in enumerate([0.2, 0.4, 0.8, 0.9, 0.95, 0.99, 1]):\n",
    "    st=time.time()\n",
    "    GAMMA = gamma\n",
    "    agent = Agent(env, map_size)\n",
    "    print(\"###### LEARNING #####\")\n",
    "    reward_total = 0.0\n",
    "    for i in range(LEARNING_COUNT):\n",
    "        reward = agent.learn()\n",
    "        reward_total += reward\n",
    "    #     print(reward)\n",
    "        if i % 10000 == 0:\n",
    "            print(i)\n",
    "    print(\"gamma         : {}\".format(GAMMA))\n",
    "    print(\"episodes      : {}\".format(LEARNING_COUNT))\n",
    "    print(\"total reward  : {}\".format(reward_total))\n",
    "    print(\"average reward: {:.2f}\".format(reward_total / LEARNING_COUNT))\n",
    "#     print(\"Q Value       :{}\".format(agent.q_val))\n",
    "    end=time.time()\n",
    "    gamma_arr[j]=gamma\n",
    "    list_scores[j]=reward_total / LEARNING_COUNT\n",
    "    time_array[j]=end-st\n",
    "    \n",
    "    print(\"###### TEST #####\")\n",
    "    reward_total = 0.0\n",
    "    for i in range(TEST_COUNT):\n",
    "        reward = agent.test()\n",
    "        reward_total += reward\n",
    "        if i % 100 == 0:\n",
    "            print(i)\n",
    "    #     print(reward)\n",
    "    print(\"episodes      : {}\".format(TEST_COUNT))\n",
    "    print(\"total reward  : {}\".format(reward_total))\n",
    "    print(\"average reward: {:.2f}\".format(reward_total / TEST_COUNT))\n",
    "    \n",
    "    policy_curr = [np.argmax(agent.q_val[state]) for state in range(map_size*map_size)]\n",
    "    policy_curr = np.array(policy_curr)\n",
    "    policy.append(policy_curr)\n",
    "    list_scores_test[j]=reward_total / TEST_COUNT\n",
    "\n",
    "print(gamma_arr)\n",
    "print(time_array)\n",
    "print(list_scores)\n",
    "print(iters)\n",
    "plt.plot(gamma_arr, time_array)\n",
    "plt.xlabel('Gammas')\n",
    "plt.title('Q-Learning, Execution Time Analysis')\n",
    "plt.ylabel('Execution Time (s)')\n",
    "plt.grid()\n",
    "plt.savefig(\"Q_ExecutionTime_FL_Small.png\")\n",
    "plt.show()\n",
    "\n",
    "plt.plot(gamma_arr,list_scores)\n",
    "plt.xlabel('Gammas')\n",
    "plt.ylabel('Average Rewards')\n",
    "plt.title('Q-Learning, Reward Analysis')\n",
    "plt.grid()\n",
    "plt.savefig(\"Q_AverageRewards_FL_Small.png\")\n",
    "plt.show()\n",
    "\n",
    "plt.plot(gamma_arr,list_scores_test)\n",
    "plt.xlabel('Gammas')\n",
    "plt.ylabel('Average Rewards')\n",
    "plt.title('Q-Learning, Reward Analysis (Test Cases)')\n",
    "plt.grid()\n",
    "plt.savefig(\"Q_AverageRewardsTest_FL_Small.png\")\n",
    "plt.show()\n",
    "\n",
    "# agent = Agent(env, map_size)\n",
    "\n",
    "# print(\"###### LEARNING #####\")\n",
    "# reward_total = 0.0\n",
    "# for i in range(LEARNING_COUNT):\n",
    "#     reward = agent.learn()\n",
    "#     reward_total += reward\n",
    "# #     print(reward)\n",
    "#     if i % 10000 == 0:\n",
    "#         print(i)\n",
    "# print(\"episodes      : {}\".format(LEARNING_COUNT))\n",
    "# print(\"total reward  : {}\".format(reward_total))\n",
    "# print(\"average reward: {:.2f}\".format(reward_total / LEARNING_COUNT))\n",
    "# print(\"Q Value       :{}\".format(agent.q_val))\n",
    "\n",
    "# print(\"###### TEST #####\")\n",
    "# reward_total = 0.0\n",
    "# for i in range(TEST_COUNT):\n",
    "#     reward = agent.test()\n",
    "#     reward_total += reward\n",
    "#     if i % 100 == 0:\n",
    "#         print(i)\n",
    "# #     print(reward)\n",
    "# print(\"episodes      : {}\".format(TEST_COUNT))\n",
    "# print(\"total reward  : {}\".format(reward_total))\n",
    "# print(\"average reward: {:.2f}\".format(reward_total / TEST_COUNT))\n",
    "\n",
    "# policy = [np.argmax(agent.q_val[state]) for state in range(map_size*map_size)]\n",
    "# policy = np.array(policy)"
   ]
  },
  {
   "cell_type": "code",
   "execution_count": null,
   "id": "residential-mercy",
   "metadata": {},
   "outputs": [],
   "source": [
    "plot = plot_policy_map('Q-Learning Policy Map, Gamma: ' + str(1),policy[6].reshape(map_size,map_size),desc,colors_lake(),directions_lake())"
   ]
  },
  {
   "cell_type": "code",
   "execution_count": null,
   "id": "responsible-syracuse",
   "metadata": {},
   "outputs": [],
   "source": []
  }
 ],
 "metadata": {
  "kernelspec": {
   "display_name": "Python 3",
   "language": "python",
   "name": "python3"
  },
  "language_info": {
   "codemirror_mode": {
    "name": "ipython",
    "version": 3
   },
   "file_extension": ".py",
   "mimetype": "text/x-python",
   "name": "python",
   "nbconvert_exporter": "python",
   "pygments_lexer": "ipython3",
   "version": "3.7.9"
  }
 },
 "nbformat": 4,
 "nbformat_minor": 5
}
